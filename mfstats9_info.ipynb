{
 "cells": [
  {
   "cell_type": "code",
   "execution_count": 1,
   "id": "2e20c4be-4d35-490f-86b7-1dd50e41cdfc",
   "metadata": {},
   "outputs": [],
   "source": [
    "# Checking the genx info used to make the mfstats9_fits\n",
    "# i.e. microflare from Fig 9 in Hannah et al. 2008\n",
    "# \n",
    "# 16-Oct-2023 IGH"
   ]
  },
  {
   "cell_type": "code",
   "execution_count": 2,
   "id": "bbf219b0-f314-44bc-927b-2505bc12bbcf",
   "metadata": {},
   "outputs": [],
   "source": [
    "import numpy as np\n",
    "from sunpy.io.special import read_genx\n",
    "from astropy.time import Time\n",
    "\n",
    "import warnings\n",
    "warnings.simplefilter('ignore')\n"
   ]
  },
  {
   "cell_type": "code",
   "execution_count": 3,
   "id": "9392cc48-3bb9-492d-81d7-c0edc4797d2b",
   "metadata": {},
   "outputs": [],
   "source": [
    "# only the 6 microflares from fig 9 taken from full flare list\n",
    "# The fit results of the full list (though not all the info) can be found\n",
    "# in the other repo here: \n",
    "# https://github.com/ianan/wee_2008/blob/main/rhessi_weeflares_results.ipynb\n",
    "\n",
    "res=read_genx('wee_fig9.genx')"
   ]
  },
  {
   "cell_type": "code",
   "execution_count": 4,
   "id": "18662b1d-7425-4382-b97b-3b7b3b2622c3",
   "metadata": {},
   "outputs": [
    {
     "data": {
      "text/plain": [
       "OrderedDict([('FSTART', '2003-02-27T06:21:26.000'),\n",
       "             ('FEND', '2003-02-27T06:25:26.000'),\n",
       "             ('FPEAK', '2003-02-27T06:22:34.000'),\n",
       "             ('FPEAK_TR',\n",
       "              array(['2003-02-27T06:22:26.000', '2003-02-27T06:22:42.000'], dtype='<U23')),\n",
       "             ('FPEAK_TDF', 16.0),\n",
       "             ('FPOS', array([840., 312.], dtype=float32)),\n",
       "             ('BK_BF_TR',\n",
       "              array(['2003-02-27T06:21:06.000', '2003-02-27T06:21:22.000'], dtype='<U23')),\n",
       "             ('BK_BF_FLAG', 1),\n",
       "             ('BK_AF_TR',\n",
       "              array(['2003-02-27T06:21:06.000', '2003-02-27T06:21:22.000'], dtype='<U23')),\n",
       "             ('BK_AF_FLAG', 1),\n",
       "             ('IS_FLAG', 2),\n",
       "             ('VF_FIT',\n",
       "              OrderedDict([('SRCTYPE', 'loop'),\n",
       "                           ('SRCFLUX', 203.38421630859375),\n",
       "                           ('SRCX', 854.7964477539062),\n",
       "                           ('SRCY', 317.90704345703125),\n",
       "                           ('SRCFWHM', 11.816244125366211),\n",
       "                           ('ECCEN', 0.7058391571044922),\n",
       "                           ('SRCPA', -31.427467346191406),\n",
       "                           ('LOOP_ANGLE', 132.53851318359375),\n",
       "                           ('ALBEDO_RATIO', 0.0),\n",
       "                           ('SRCHEIGHT', 0.0)])),\n",
       "             ('VF_FITERR',\n",
       "              OrderedDict([('SRCTYPE', 'std.dev'),\n",
       "                           ('SRCFLUX', 19.63432502746582),\n",
       "                           ('SRCX', 1.5854796171188354),\n",
       "                           ('SRCY', 1.593689203262329),\n",
       "                           ('SRCFWHM', 2.3703246116638184),\n",
       "                           ('ECCEN', 0.14022821187973022),\n",
       "                           ('SRCPA', 20.785192489624023),\n",
       "                           ('LOOP_ANGLE', 79.70002746582031),\n",
       "                           ('ALBEDO_RATIO', 0.0),\n",
       "                           ('SRCHEIGHT', 0.0)])),\n",
       "             ('VF_QFLAG', 0.0),\n",
       "             ('VF_CHISQ', 0.35088467597961426),\n",
       "             ('VF_LPARC', 20.74419593811035),\n",
       "             ('VF_LPWID', 5.896109580993652),\n",
       "             ('VF_LPARCERR', 4.969390392303467),\n",
       "             ('VF_LPWIDERR', 2.451728582382202),\n",
       "             ('VF_VOL', 2.1583984494495392e+26),\n",
       "             ('VF_VOLERR', 2.3120731646546778e+26),\n",
       "             ('OSX_P',\n",
       "              array([1.4224706e-03, 1.2426785e+01, 1.0000000e+00, 4.6197537e-02,\n",
       "                     1.5000000e+00, 8.9995346e+00, 5.5096469e+00], dtype=float32)),\n",
       "             ('OSX_PERR',\n",
       "              array([1.9555680e-06, 2.8970407e-03, 0.0000000e+00, 4.4464492e-04,\n",
       "                     0.0000000e+00, 2.7673131e-02, 4.6660367e-02], dtype=float32)),\n",
       "             ('OSX_CHISQ', 1.3739229440689087),\n",
       "             ('OSX_48CNT', 0.7863474488258362),\n",
       "             ('OSX_48PH', 68.97203826904297),\n",
       "             ('ENG_TH', 4.3956297376698714e+27),\n",
       "             ('ENG_NN', 9.433872987001744e+27),\n",
       "             ('GFLX', 5.606094077847956e-07),\n",
       "             ('GFLX_BS', 2.970227797050029e-08),\n",
       "             ('GCLASS', 'B5.61'),\n",
       "             ('GCLASS_BS', 'A2.97'),\n",
       "             ('NAR_NOAA', 10290),\n",
       "             ('NAR_LATLONG', array([75, 18], dtype=int16)),\n",
       "             ('NAR_XY', array([839.41430664, 345.76046753])),\n",
       "             ('NAR_RADOFF', 32.16730880737305),\n",
       "             ('NAR_AREA', 80.0),\n",
       "             ('SUM_RATE',\n",
       "              array([ 76.  ,  79.  ,   4.75,  34.  ,  71.  , 110.  ,  86.  ,  69.  ,\n",
       "                       3.5 ])),\n",
       "             ('SUM_RATEBS',\n",
       "              array([43.  , 63.25,  1.  ,  1.  , -1.  , -6.  , -3.  , -5.  , -0.25]))])"
      ]
     },
     "execution_count": 4,
     "metadata": {},
     "output_type": "execute_result"
    }
   ],
   "source": [
    "# What is stored - just for the first microflare\n",
    "res[\"SAVEGEN0\"][0]\n",
    "# Format here seems different from other repo setup - full info per entry, not arrays of all entry info"
   ]
  },
  {
   "cell_type": "code",
   "execution_count": 5,
   "id": "451568e4-641d-491d-b937-2d2610b83eeb",
   "metadata": {},
   "outputs": [
    {
     "name": "stdout",
     "output_type": "stream",
     "text": [
      "Flare: 1\n",
      "Peak Time Range:  ['2003-02-27 06:22:26.000' '2003-02-27 06:22:42.000']\n",
      "Back Time Range:  ['2003-02-27 06:21:06.000' '2003-02-27 06:21:22.000']\n",
      "Flare: 2\n",
      "Peak Time Range:  ['2003-03-17 18:41:38.000' '2003-03-17 18:41:54.000']\n",
      "Back Time Range:  ['2003-03-17 18:39:34.000' '2003-03-17 18:39:50.000']\n",
      "Flare: 3\n",
      "Peak Time Range:  ['2003-04-29 17:42:54.000' '2003-04-29 17:43:10.000']\n",
      "Back Time Range:  ['2003-04-29 17:41:10.000' '2003-04-29 17:41:26.000']\n",
      "Flare: 4\n",
      "Peak Time Range:  ['2003-07-25 08:26:34.000' '2003-07-25 08:26:50.000']\n",
      "Back Time Range:  ['2003-07-25 08:22:54.000' '2003-07-25 08:23:10.000']\n",
      "Flare: 5\n",
      "Peak Time Range:  ['2004-01-17 07:28:38.000' '2004-01-17 07:28:54.000']\n",
      "Back Time Range:  ['2004-01-17 07:26:14.000' '2004-01-17 07:26:30.000']\n",
      "Flare: 6\n",
      "Peak Time Range:  ['2004-10-24 00:31:38.000' '2004-10-24 00:31:54.000']\n",
      "Back Time Range:  ['2004-10-24 00:30:42.000' '2004-10-24 00:30:58.000']\n"
     ]
    }
   ],
   "source": [
    "# 16s about the peak time used for the flare time in the fitting\n",
    "nf=len(res[\"SAVEGEN0\"])\n",
    "ftims=[]\n",
    "btims=[]\n",
    "\n",
    "for f in range(nf):\n",
    "    ftims.append(Time(res[\"SAVEGEN0\"][f][\"FPEAK_TR\"],format='isot'))\n",
    "    btims.append(Time(res[\"SAVEGEN0\"][f][\"BK_BF_TR\"],format='isot'))\n",
    "\n",
    "for f in range(nf):\n",
    "    print(f'Flare: {f+1}')\n",
    "    print('Peak Time Range: ',ftims[f].iso)\n",
    "    print('Back Time Range: ',btims[f].iso)\n",
    "    "
   ]
  },
  {
   "cell_type": "code",
   "execution_count": null,
   "id": "5331d5f9-1848-4f63-8997-f73c21ce70be",
   "metadata": {},
   "outputs": [],
   "source": []
  }
 ],
 "metadata": {
  "kernelspec": {
   "display_name": "Python 3 (ipykernel)",
   "language": "python",
   "name": "python3"
  },
  "language_info": {
   "codemirror_mode": {
    "name": "ipython",
    "version": 3
   },
   "file_extension": ".py",
   "mimetype": "text/x-python",
   "name": "python",
   "nbconvert_exporter": "python",
   "pygments_lexer": "ipython3",
   "version": "3.10.9"
  }
 },
 "nbformat": 4,
 "nbformat_minor": 5
}
