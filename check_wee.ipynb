{
 "cells": [
  {
   "cell_type": "code",
   "execution_count": 1,
   "metadata": {},
   "outputs": [],
   "source": [
    "# Check some of the microflare results\n",
    "# \n",
    "# 05-Dec-2023 IGH"
   ]
  },
  {
   "cell_type": "code",
   "execution_count": 2,
   "metadata": {},
   "outputs": [],
   "source": [
    "import matplotlib\n",
    "import matplotlib.pyplot as plt\n",
    "import matplotlib.ticker as mticker\n",
    "import numpy as np\n",
    "from sunpy.io.special import read_genx\n",
    "from astropy.time import Time\n",
    "\n",
    "import warnings\n",
    "warnings.simplefilter('ignore')\n",
    "\n",
    "matplotlib.rcParams['font.size']=16"
   ]
  },
  {
   "cell_type": "code",
   "execution_count": 3,
   "metadata": {},
   "outputs": [],
   "source": [
    "res=read_genx('../wee_2008/wee_all.genx')\n",
    "pktim=res[\"SAVEGEN0\"][\"FPEAK\"]"
   ]
  },
  {
   "cell_type": "code",
   "execution_count": 4,
   "metadata": {},
   "outputs": [],
   "source": [
    "apktim=Time(pktim,format='isot')"
   ]
  },
  {
   "cell_type": "code",
   "execution_count": 5,
   "metadata": {},
   "outputs": [],
   "source": [
    "wtims=[\"2003-02-27 06:22:34.000\",\n",
    "       \"2003-03-17 18:41:46.000\",\n",
    "       \"2003-04-29 17:43:02.000\",\n",
    "       \"2003-07-25 08:26:42.000\",\n",
    "       \"2004-01-17 07:28:46.000\",\n",
    "       \"2004-10-24 00:31:46.000\"]\n",
    "nf=len(wtims)"
   ]
  },
  {
   "cell_type": "code",
   "execution_count": 6,
   "metadata": {},
   "outputs": [
    {
     "name": "stdout",
     "output_type": "stream",
     "text": [
      "[ 6507  7066  8150 10032 13408 17602]\n"
     ]
    }
   ],
   "source": [
    "# Find the microflares in the main list\n",
    "ids=np.ones(nf,dtype=int)\n",
    "\n",
    "for i in range(nf):\n",
    "    temp=Time(wtims[i],format='iso')\n",
    "    ids[i]=np.where(apktim.decimalyear == temp.decimalyear)[0]\n",
    "\n",
    "print(ids)"
   ]
  },
  {
   "cell_type": "code",
   "execution_count": 7,
   "metadata": {},
   "outputs": [
    {
     "name": "stdout",
     "output_type": "stream",
     "text": [
      "2003-02-27 06:22:34.000  ---   2003-02-27T06:22:34.000\n",
      "2003-03-17 18:41:46.000  ---   2003-03-17T18:41:46.000\n",
      "2003-04-29 17:43:02.000  ---   2003-04-29T17:43:02.000\n",
      "2003-07-25 08:26:42.000  ---   2003-07-25T08:26:42.000\n",
      "2004-01-17 07:28:46.000  ---   2004-01-17T07:28:46.000\n",
      "2004-10-24 00:31:46.000  ---   2004-10-24T00:31:46.000\n"
     ]
    }
   ],
   "source": [
    "# Check the results\n",
    "\n",
    "for i in range(nf):\n",
    "    print(wtims[i]+\"  ---   \"+pktim[ids[i]])"
   ]
  },
  {
   "cell_type": "code",
   "execution_count": 8,
   "metadata": {},
   "outputs": [
    {
     "name": "stdout",
     "output_type": "stream",
     "text": [
      "2003-02-27 06:22:34.000\n",
      "Gd th    fit: True\n",
      "Gd th+nn fit: True\n",
      "Gd GOES & th    fit: True\n",
      "Gd GOES & th+nn fit: True\n",
      "2003-03-17 18:41:46.000\n",
      "Gd th    fit: True\n",
      "Gd th+nn fit: True\n",
      "Gd GOES & th    fit: True\n",
      "Gd GOES & th+nn fit: True\n",
      "2003-04-29 17:43:02.000\n",
      "Gd th    fit: False\n",
      "Gd th+nn fit: False\n",
      "Gd GOES & th    fit: False\n",
      "Gd GOES & th+nn fit: False\n",
      "2003-07-25 08:26:42.000\n",
      "Gd th    fit: True\n",
      "Gd th+nn fit: True\n",
      "Gd GOES & th    fit: True\n",
      "Gd GOES & th+nn fit: True\n",
      "2004-01-17 07:28:46.000\n",
      "Gd th    fit: True\n",
      "Gd th+nn fit: True\n",
      "Gd GOES & th    fit: True\n",
      "Gd GOES & th+nn fit: True\n",
      "2004-10-24 00:31:46.000\n",
      "Gd th    fit: True\n",
      "Gd th+nn fit: True\n",
      "Gd GOES & th    fit: False\n",
      "Gd GOES & th+nn fit: False\n"
     ]
    }
   ],
   "source": [
    "# Do these have good ids?\n",
    "# Events with \"good\" fits (th, nn, th+gs, nn+gs)\n",
    "idgdth=res[\"SAVEGEN0\"][\"IDGDTH\"]\n",
    "idgdnn=res[\"SAVEGEN0\"][\"IDGDNN\"]\n",
    "idgsgdth=res[\"SAVEGEN0\"][\"IDGSGDTH\"]\n",
    "idgsgdnn=res[\"SAVEGEN0\"][\"IDGSGDNN\"]\n",
    "\n",
    "\n",
    "gdth=np.isin(ids,idgdth)\n",
    "gdnn=np.isin(ids,idgdnn)\n",
    "gdgsth=np.isin(ids,idgsgdth)\n",
    "gdgsnn=np.isin(ids,idgsgdnn)\n",
    "\n",
    "for i in range(nf):\n",
    "    print(wtims[i])\n",
    "    print(f\"Gd th    fit: {gdth[i]}\")\n",
    "    print(f\"Gd th+nn fit: {gdnn[i]}\")\n",
    "    print(f\"Gd GOES & th    fit: {gdgsth[i]}\")\n",
    "    print(f\"Gd GOES & th+nn fit: {gdgsnn[i]}\")\n",
    "\n",
    "# OK so one with bad fit, 29-Apr-2003 is not flagged as good\n",
    "# 24-Oct-2004 only good RHESSI fit but bad GOES data (which is fine)\n"
   ]
  },
  {
   "cell_type": "code",
   "execution_count": 9,
   "metadata": {},
   "outputs": [],
   "source": [
    "# What were the fit results\n",
    "# OSPEX fit of f_vth + bpow\n",
    "tmk=res[\"SAVEGEN0\"][\"TMK\"]\n",
    "em=res[\"SAVEGEN0\"][\"EM\"]\n",
    "norm=res[\"SAVEGEN0\"][\"NORM\"]\n",
    "eb=res[\"SAVEGEN0\"][\"EB\"]\n",
    "g2=res[\"SAVEGEN0\"][\"G2\"]\n",
    "# Estimated low energy cutoff from bpow fit\n",
    "ec=res[\"SAVEGEN0\"][\"EC\"]\n"
   ]
  },
  {
   "cell_type": "code",
   "execution_count": 10,
   "metadata": {},
   "outputs": [
    {
     "name": "stdout",
     "output_type": "stream",
     "text": [
      "-----\n",
      "2003-02-27 06:22:34.000\n",
      "T: 12.43 MK, EM 1.42e+46\n",
      "EB 9.00 keV, gam 5.51\n",
      "EC: 12.27 keV, Norm: 0.05\n",
      "-----\n",
      "2003-03-17 18:41:46.000\n",
      "T: 11.95 MK, EM 2.48e+46\n",
      "EB 8.28 keV, gam 5.42\n",
      "EC: 11.12 keV, Norm: 0.35\n",
      "-----\n",
      "2003-04-29 17:43:02.000\n",
      "T: 14.12 MK, EM 2.19e+46\n",
      "EB 9.03 keV, gam 6.98\n",
      "EC: 12.01 keV, Norm: 0.33\n",
      "-----\n",
      "2003-07-25 08:26:42.000\n",
      "T: 12.96 MK, EM 3.12e+46\n",
      "EB 8.55 keV, gam 5.75\n",
      "EC: 11.49 keV, Norm: 0.52\n",
      "-----\n",
      "2004-01-17 07:28:46.000\n",
      "T: 13.69 MK, EM 1.74e+46\n",
      "EB 9.42 keV, gam 6.40\n",
      "EC: 12.77 keV, Norm: 0.15\n",
      "-----\n",
      "2004-10-24 00:31:46.000\n",
      "T: 13.75 MK, EM 1.05e+46\n",
      "EB 7.96 keV, gam 5.11\n",
      "EC: 10.63 keV, Norm: 0.49\n"
     ]
    }
   ],
   "source": [
    "for i in range(nf):\n",
    "    print('-----')\n",
    "    print(wtims[i])\n",
    "    print(f'T: {tmk[ids[i]]:.2f} MK, EM {em[ids[i]]:.2e}')\n",
    "    print(f'EB {eb[ids[i]]:.2f} keV, gam {g2[ids[i]]:.2f}')\n",
    "    print(f'EC: {ec[ids[i]]:.2f} keV, Norm: {norm[ids[i]]:.2f}')"
   ]
  }
 ],
 "metadata": {
  "kernelspec": {
   "display_name": "base",
   "language": "python",
   "name": "python3"
  },
  "language_info": {
   "codemirror_mode": {
    "name": "ipython",
    "version": 3
   },
   "file_extension": ".py",
   "mimetype": "text/x-python",
   "name": "python",
   "nbconvert_exporter": "python",
   "pygments_lexer": "ipython3",
   "version": "3.10.9"
  }
 },
 "nbformat": 4,
 "nbformat_minor": 2
}
