{
 "cells": [
  {
   "cell_type": "code",
   "execution_count": 1,
   "metadata": {},
   "outputs": [],
   "source": [
    "# Check some of the microflare results\n",
    "# \n",
    "# 05-Dec-2023 IGH"
   ]
  },
  {
   "cell_type": "code",
   "execution_count": 2,
   "metadata": {},
   "outputs": [],
   "source": [
    "import matplotlib\n",
    "import matplotlib.pyplot as plt\n",
    "import matplotlib.ticker as mticker\n",
    "import numpy as np\n",
    "from sunpy.io.special import read_genx\n",
    "from astropy.time import Time\n",
    "import scipy.special as ss\n",
    "\n",
    "import warnings\n",
    "warnings.simplefilter('ignore')\n",
    "\n",
    "matplotlib.rcParams['font.size']=16"
   ]
  },
  {
   "cell_type": "code",
   "execution_count": 3,
   "metadata": {},
   "outputs": [],
   "source": [
    "# From sswidl this file was made as:\n",
    "# rr={fstart:anytim(res.fstart,/ccsds),fend:anytim(res.fend,/ccsds),fpeak:anytim(res.fpeak,/ccsds),$\n",
    "#     fpeak_tr:anytim(res.fpeak_tr,/ccsds),bk_bf_tr:anytim(res.bk_bf_tr,/ccsds),$\n",
    "#     tmk:res.osx_p[1],em:res.osx_p[0]*1d49,$\n",
    "#     norm:res.osx_p[3],g1:1.5,eb:res.osx_p[5],g2:res.osx_p[6],$\n",
    "#     ec:ec,ph4_8:ph4_8,ph12:ph12,vol:res.vf_vol,vflx4_8:res.vf_fit.srcflux,vx:res.vf_fit.srcx,vy:res.vf_fit.srcy,$\n",
    "#     gflx_bs:res.gflx_bs,gtmk:tems.tmk,gem:tems.em,$\n",
    "#     eng_th:res.eng_th,eng_nn:res.eng_nn,$\n",
    "#     idgdth:gdth,idgdnn:gdnn,idgsgdth:gsgdth,idgsgdnn:gsgdnn}\n",
    "# \n",
    "# Note that osx_p[1] was already converted from tkev to TMK via osx_p[1]/0.086164\n",
    "\n",
    "res=read_genx('../wee_2008/wee_all.genx')\n",
    "pktim=res[\"SAVEGEN0\"][\"FPEAK\"]"
   ]
  },
  {
   "cell_type": "code",
   "execution_count": 4,
   "metadata": {},
   "outputs": [],
   "source": [
    "apktim=Time(pktim,format='isot')"
   ]
  },
  {
   "cell_type": "code",
   "execution_count": 5,
   "metadata": {},
   "outputs": [],
   "source": [
    "wtims=[\"2003-02-27 06:22:34.000\",\n",
    "       \"2003-03-17 18:41:46.000\",\n",
    "       \"2003-04-29 17:43:02.000\",\n",
    "       \"2003-07-25 08:26:42.000\",\n",
    "       \"2004-01-17 07:28:46.000\",\n",
    "       \"2004-10-24 00:31:46.000\"]\n",
    "nf=len(wtims)"
   ]
  },
  {
   "cell_type": "code",
   "execution_count": 6,
   "metadata": {},
   "outputs": [
    {
     "name": "stdout",
     "output_type": "stream",
     "text": [
      "[ 6507  7066  8150 10032 13408 17602]\n"
     ]
    }
   ],
   "source": [
    "# Find the microflares in the main list\n",
    "ids=np.ones(nf,dtype=int)\n",
    "\n",
    "for i in range(nf):\n",
    "    temp=Time(wtims[i],format='iso')\n",
    "    ids[i]=np.where(apktim.decimalyear == temp.decimalyear)[0]\n",
    "\n",
    "print(ids)"
   ]
  },
  {
   "cell_type": "code",
   "execution_count": 7,
   "metadata": {},
   "outputs": [
    {
     "name": "stdout",
     "output_type": "stream",
     "text": [
      "2003-02-27 06:22:34.000  ---   2003-02-27T06:22:34.000\n",
      "2003-03-17 18:41:46.000  ---   2003-03-17T18:41:46.000\n",
      "2003-04-29 17:43:02.000  ---   2003-04-29T17:43:02.000\n",
      "2003-07-25 08:26:42.000  ---   2003-07-25T08:26:42.000\n",
      "2004-01-17 07:28:46.000  ---   2004-01-17T07:28:46.000\n",
      "2004-10-24 00:31:46.000  ---   2004-10-24T00:31:46.000\n"
     ]
    }
   ],
   "source": [
    "# Check the results\n",
    "\n",
    "for i in range(nf):\n",
    "    print(wtims[i]+\"  ---   \"+pktim[ids[i]])"
   ]
  },
  {
   "cell_type": "code",
   "execution_count": 8,
   "metadata": {},
   "outputs": [
    {
     "name": "stdout",
     "output_type": "stream",
     "text": [
      "2003-02-27 06:22:34.000\n",
      "Gd th    fit: True\n",
      "Gd th+nn fit: True\n",
      "Gd GOES & th    fit: True\n",
      "Gd GOES & th+nn fit: True\n",
      "2003-03-17 18:41:46.000\n",
      "Gd th    fit: True\n",
      "Gd th+nn fit: True\n",
      "Gd GOES & th    fit: True\n",
      "Gd GOES & th+nn fit: True\n",
      "2003-04-29 17:43:02.000\n",
      "Gd th    fit: False\n",
      "Gd th+nn fit: False\n",
      "Gd GOES & th    fit: False\n",
      "Gd GOES & th+nn fit: False\n",
      "2003-07-25 08:26:42.000\n",
      "Gd th    fit: True\n",
      "Gd th+nn fit: True\n",
      "Gd GOES & th    fit: True\n",
      "Gd GOES & th+nn fit: True\n",
      "2004-01-17 07:28:46.000\n",
      "Gd th    fit: True\n",
      "Gd th+nn fit: True\n",
      "Gd GOES & th    fit: True\n",
      "Gd GOES & th+nn fit: True\n",
      "2004-10-24 00:31:46.000\n",
      "Gd th    fit: True\n",
      "Gd th+nn fit: True\n",
      "Gd GOES & th    fit: False\n",
      "Gd GOES & th+nn fit: False\n"
     ]
    }
   ],
   "source": [
    "# Do these have good ids?\n",
    "# Events with \"good\" fits (th, nn, th+gs, nn+gs)\n",
    "idgdth=res[\"SAVEGEN0\"][\"IDGDTH\"]\n",
    "idgdnn=res[\"SAVEGEN0\"][\"IDGDNN\"]\n",
    "idgsgdth=res[\"SAVEGEN0\"][\"IDGSGDTH\"]\n",
    "idgsgdnn=res[\"SAVEGEN0\"][\"IDGSGDNN\"]\n",
    "\n",
    "\n",
    "gdth=np.isin(ids,idgdth)\n",
    "gdnn=np.isin(ids,idgdnn)\n",
    "gdgsth=np.isin(ids,idgsgdth)\n",
    "gdgsnn=np.isin(ids,idgsgdnn)\n",
    "\n",
    "for i in range(nf):\n",
    "    print(wtims[i])\n",
    "    print(f\"Gd th    fit: {gdth[i]}\")\n",
    "    print(f\"Gd th+nn fit: {gdnn[i]}\")\n",
    "    print(f\"Gd GOES & th    fit: {gdgsth[i]}\")\n",
    "    print(f\"Gd GOES & th+nn fit: {gdgsnn[i]}\")\n",
    "\n",
    "# OK so one with bad fit, 29-Apr-2003 is not flagged as good\n",
    "# 24-Oct-2004 only good RHESSI fit but bad GOES data (which is fine)\n"
   ]
  },
  {
   "cell_type": "code",
   "execution_count": 9,
   "metadata": {},
   "outputs": [],
   "source": [
    "# What were the fit results\n",
    "# OSPEX fit of f_vth + bpow\n",
    "tmk=res[\"SAVEGEN0\"][\"TMK\"]\n",
    "em=res[\"SAVEGEN0\"][\"EM\"]\n",
    "norm=res[\"SAVEGEN0\"][\"NORM\"]\n",
    "eb=res[\"SAVEGEN0\"][\"EB\"]\n",
    "g2=res[\"SAVEGEN0\"][\"G2\"]\n",
    "# Estimated low energy cutoff from bpow fit\n",
    "ec=res[\"SAVEGEN0\"][\"EC\"]\n",
    "# The pre-calculated energies\n",
    "ength=res[\"SAVEGEN0\"][\"ENG_TH\"]\n",
    "engnn=res[\"SAVEGEN0\"][\"ENG_NN\"]\n",
    "vol=res[\"SAVEGEN0\"][\"VOL\"]"
   ]
  },
  {
   "cell_type": "code",
   "execution_count": 10,
   "metadata": {},
   "outputs": [
    {
     "name": "stdout",
     "output_type": "stream",
     "text": [
      "-----\n",
      "2003-02-27 06:22:34.000\n",
      "T: 12.43 MK, EM 1.42e+46\n",
      "EB 9.00 keV, gam 5.51\n",
      "EC: 12.27 keV, Norm: 0.05\n",
      "-----\n",
      "2003-03-17 18:41:46.000\n",
      "T: 11.95 MK, EM 2.48e+46\n",
      "EB 8.28 keV, gam 5.42\n",
      "EC: 11.12 keV, Norm: 0.35\n",
      "-----\n",
      "2003-04-29 17:43:02.000\n",
      "T: 14.12 MK, EM 2.19e+46\n",
      "EB 9.03 keV, gam 6.98\n",
      "EC: 12.01 keV, Norm: 0.33\n",
      "-----\n",
      "2003-07-25 08:26:42.000\n",
      "T: 12.96 MK, EM 3.12e+46\n",
      "EB 8.55 keV, gam 5.75\n",
      "EC: 11.49 keV, Norm: 0.52\n",
      "-----\n",
      "2004-01-17 07:28:46.000\n",
      "T: 13.69 MK, EM 1.74e+46\n",
      "EB 9.42 keV, gam 6.40\n",
      "EC: 12.77 keV, Norm: 0.15\n",
      "-----\n",
      "2004-10-24 00:31:46.000\n",
      "T: 13.75 MK, EM 1.05e+46\n",
      "EB 7.96 keV, gam 5.11\n",
      "EC: 10.63 keV, Norm: 0.49\n"
     ]
    }
   ],
   "source": [
    "for i in range(nf):\n",
    "    print('-----')\n",
    "    print(wtims[i])\n",
    "    print(f'T: {tmk[ids[i]]:.2f} MK, EM {em[ids[i]]:.2e}')\n",
    "    print(f'EB {eb[ids[i]]:.2f} keV, gam {g2[ids[i]]:.2f}')\n",
    "    print(f'EC: {ec[ids[i]]:.2f} keV, Norm: {norm[ids[i]]:.2f}')"
   ]
  },
  {
   "cell_type": "code",
   "execution_count": 11,
   "metadata": {},
   "outputs": [
    {
     "name": "stdout",
     "output_type": "stream",
     "text": [
      "-----\n",
      "2003-02-27 06:22:34.000\n",
      "Vol: 9.77e+25 cm^3\n",
      "File ength: 4.40e+27 erg, Calc ength: 6.07e+27 erg\n",
      "File engnn: 9.43e+27 erg, Calc tempnn: 8.35e+27 erg\n",
      "-----\n",
      "2003-03-17 18:41:46.000\n",
      "Vol: 1.57e+26 cm^3\n",
      "File ength: 1.65e+28 erg, Calc ength: 9.77e+27 erg\n",
      "File engnn: 6.67e+28 erg, Calc tempnn: 6.40e+28 erg\n",
      "-----\n",
      "2003-04-29 17:43:02.000\n",
      "Vol: 7.43e+26 cm^3\n",
      "File ength: 1.04e+28 erg, Calc ength: 2.36e+28 erg\n",
      "File engnn: 9.53e+28 erg, Calc tempnn: 8.70e+28 erg\n",
      "-----\n",
      "2003-07-25 08:26:42.000\n",
      "Vol: 4.25e+26 cm^3\n",
      "File ength: 1.03e+28 erg, Calc ength: 1.96e+28 erg\n",
      "File engnn: 9.67e+28 erg, Calc tempnn: 1.04e+29 erg\n",
      "-----\n",
      "2004-01-17 07:28:46.000\n",
      "Vol: 2.59e+26 cm^3\n",
      "File ength: 6.72e+27 erg, Calc ength: 1.20e+28 erg\n",
      "File engnn: 3.73e+28 erg, Calc tempnn: 3.42e+28 erg\n",
      "-----\n",
      "2004-10-24 00:31:46.000\n",
      "Vol: 0.00e+00 cm^3\n",
      "File ength: 3.03e+27 erg, Calc ength: 0.00e+00 erg\n",
      "File engnn: 7.61e+28 erg, Calc tempnn: 8.24e+28 erg\n"
     ]
    }
   ],
   "source": [
    "for i in range(nf):\n",
    "    print('-----')\n",
    "    print(wtims[i])\n",
    "    j=ids[i]\n",
    "    print(f'Vol: {vol[j]:.2e} cm^3')\n",
    "    tempth=3*np.sqrt(em[j]*vol[j])*1.3806503e-23*tmk[j]*1e6*1e7 #convert MK to K, and J to erg\n",
    "    print(f'File ength: {ength[j]:.2e} erg, Calc ength: {tempth:.2e} erg')\n",
    "    # Norm value is below the break power-law extended to 50 keV, so convert back to Eb value, i.e.\n",
    "    # https://soho.nascom.nasa.gov/solarsoft/packages/xray/idl/f_bpow.pro\n",
    "    feb=norm[j]*(eb[j]/50)**-1.5 \n",
    "    # Then work out power-law above the break down to 1 keV, as needed for calc\n",
    "    f1=feb*eb[j]**g2[j]\n",
    "    # 16* as power over 16s integration\n",
    "    tempnn=16*9.5e24*g2[j]**2*(g2[j]-1)*ss.beta(g2[j]-0.5,1.5)*f1*eb[j]**(1-g2[j])\n",
    "    print(f'File engnn: {engnn[j]:.2e} erg, Calc tempnn: {tempnn:.2e} erg')\n",
    "\n",
    "# So inconsistent values in the combined new file so need to check what comes from where, \n",
    "# as given energies don't match ospex parameters and vol for one is 0, hence the thermal energy is 0! \n"
   ]
  },
  {
   "cell_type": "code",
   "execution_count": 15,
   "metadata": {},
   "outputs": [
    {
     "name": "stdout",
     "output_type": "stream",
     "text": [
      "-----\n",
      "2003-02-27 06:22:34.000\n",
      "Vol: 9.77e+25 cm^3\n",
      "File ength: 4.40e+27 erg, Paper Calc ength: 6.26e+27 erg\n",
      "File engnn: 9.43e+27 erg, Paper Calc tempnn: 9.43e+27 erg\n",
      "-----\n",
      "2003-03-17 18:41:46.000\n",
      "Vol: 1.57e+26 cm^3\n",
      "File ength: 1.65e+28 erg, Paper Calc ength: 1.03e+28 erg\n",
      "File engnn: 6.67e+28 erg, Paper Calc tempnn: 6.65e+28 erg\n",
      "-----\n",
      "2003-04-29 17:43:02.000\n",
      "Vol: 7.43e+26 cm^3\n",
      "File ength: 1.04e+28 erg, Paper Calc ength: 2.45e+28 erg\n",
      "File engnn: 9.53e+28 erg, Paper Calc tempnn: 9.53e+28 erg\n",
      "-----\n",
      "2003-07-25 08:26:42.000\n",
      "Vol: 4.25e+26 cm^3\n",
      "File ength: 1.03e+28 erg, Paper Calc ength: 2.03e+28 erg\n",
      "File engnn: 9.67e+28 erg, Paper Calc tempnn: 9.66e+28 erg\n",
      "-----\n",
      "2004-01-17 07:28:46.000\n",
      "Vol: 2.59e+26 cm^3\n",
      "File ength: 6.72e+27 erg, Paper Calc ength: 1.25e+28 erg\n",
      "File engnn: 3.73e+28 erg, Paper Calc tempnn: 3.73e+28 erg\n",
      "-----\n",
      "2004-10-24 00:31:46.000\n",
      "Vol: 0.00e+00 cm^3\n",
      "File ength: 3.03e+27 erg, Paper Calc ength: 0.00e+00 erg\n",
      "File engnn: 7.61e+28 erg, Paper Calc tempnn: 8.01e+28 erg\n"
     ]
    }
   ],
   "source": [
    "# What about the paper values from Fig 9 ??\n",
    "ptmk=np.array([12.21,11.62,13.75,12.76,13.38,13.47])\n",
    "pem=np.array([1.57e46,2.94e46,2.5e46,3.46e46,1.96e46,1.17e46])\n",
    "\n",
    "pfeb=np.array([.69,5.32,4.64,6.4,2.01,7.23])\n",
    "pg2=np.array([5.54,5.46,7.05,5.88,6.45,5.15])\n",
    "peb=np.array([8.83,8.28,8.98,8.85,9.36,8.08])\n",
    "\n",
    "for i in range(nf):\n",
    "    print('-----')\n",
    "    print(wtims[i])\n",
    "    j=ids[i]\n",
    "    print(f'Vol: {vol[j]:.2e} cm^3')\n",
    "    tempth=3*np.sqrt(pem[i]*vol[j])*1.3806503e-23*ptmk[i]*1e6*1e7 #convert MK to K, and J to erg\n",
    "    print(f'File ength: {ength[j]:.2e} erg, Paper Calc ength: {tempth:.2e} erg')\n",
    "\n",
    "    f1=pfeb[i]*peb[i]**pg2[i]\n",
    "    # 16* as power over 16s integration\n",
    "    tempnn=16*9.5e24*pg2[i]**2*(pg2[i]-1)*ss.beta(pg2[i]-0.5,1.5)*f1*peb[i]**(1-pg2[i])\n",
    "    print(f'File engnn: {engnn[j]:.2e} erg, Paper Calc tempnn: {tempnn:.2e} erg')"
   ]
  },
  {
   "cell_type": "code",
   "execution_count": null,
   "metadata": {},
   "outputs": [],
   "source": []
  }
 ],
 "metadata": {
  "kernelspec": {
   "display_name": "base",
   "language": "python",
   "name": "python3"
  },
  "language_info": {
   "codemirror_mode": {
    "name": "ipython",
    "version": 3
   },
   "file_extension": ".py",
   "mimetype": "text/x-python",
   "name": "python",
   "nbconvert_exporter": "python",
   "pygments_lexer": "ipython3",
   "version": "3.10.9"
  }
 },
 "nbformat": 4,
 "nbformat_minor": 2
}
